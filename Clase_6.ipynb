{
  "nbformat": 4,
  "nbformat_minor": 0,
  "metadata": {
    "colab": {
      "name": "Clase 6.ipynb",
      "provenance": [],
      "authorship_tag": "ABX9TyOmIMp3cn/rO4iIqwiOqhfx",
      "include_colab_link": true
    },
    "kernelspec": {
      "name": "python3",
      "display_name": "Python 3"
    }
  },
  "cells": [
    {
      "cell_type": "markdown",
      "metadata": {
        "id": "view-in-github",
        "colab_type": "text"
      },
      "source": [
        "<a href=\"https://colab.research.google.com/github/danvasem/pytorch-ex/blob/master/Clase_6.ipynb\" target=\"_parent\"><img src=\"https://colab.research.google.com/assets/colab-badge.svg\" alt=\"Open In Colab\"/></a>"
      ]
    },
    {
      "cell_type": "code",
      "metadata": {
        "id": "kclq7FoXKq3O",
        "colab_type": "code",
        "colab": {}
      },
      "source": [
        "from sklearn.datasets import load_iris\n",
        "from sklearn.ensemble import RandomForestClassifier\n",
        "import pandas as pd\n",
        "import numpy as np"
      ],
      "execution_count": 2,
      "outputs": []
    },
    {
      "cell_type": "code",
      "metadata": {
        "id": "6GGgpp52MKG9",
        "colab_type": "code",
        "colab": {}
      },
      "source": [
        "np.random.seed(0)"
      ],
      "execution_count": 3,
      "outputs": []
    },
    {
      "cell_type": "code",
      "metadata": {
        "id": "8HiOpK4pMQ3j",
        "colab_type": "code",
        "colab": {}
      },
      "source": [
        "iris = load_iris()"
      ],
      "execution_count": 4,
      "outputs": []
    },
    {
      "cell_type": "code",
      "metadata": {
        "id": "Twp7I3vZtc6Y",
        "colab_type": "code",
        "colab": {}
      },
      "source": [
        "df=pd.DataFrame(iris.data, columns=iris.feature_names)"
      ],
      "execution_count": 6,
      "outputs": []
    },
    {
      "cell_type": "code",
      "metadata": {
        "id": "vPak6GJ2t2TG",
        "colab_type": "code",
        "colab": {
          "base_uri": "https://localhost:8080/",
          "height": 195
        },
        "outputId": "4768a9e8-90f2-4c74-f800-772b69574162"
      },
      "source": [
        "df.head()"
      ],
      "execution_count": 9,
      "outputs": [
        {
          "output_type": "execute_result",
          "data": {
            "text/html": [
              "<div>\n",
              "<style scoped>\n",
              "    .dataframe tbody tr th:only-of-type {\n",
              "        vertical-align: middle;\n",
              "    }\n",
              "\n",
              "    .dataframe tbody tr th {\n",
              "        vertical-align: top;\n",
              "    }\n",
              "\n",
              "    .dataframe thead th {\n",
              "        text-align: right;\n",
              "    }\n",
              "</style>\n",
              "<table border=\"1\" class=\"dataframe\">\n",
              "  <thead>\n",
              "    <tr style=\"text-align: right;\">\n",
              "      <th></th>\n",
              "      <th>sepal length (cm)</th>\n",
              "      <th>sepal width (cm)</th>\n",
              "      <th>petal length (cm)</th>\n",
              "      <th>petal width (cm)</th>\n",
              "      <th>species</th>\n",
              "    </tr>\n",
              "  </thead>\n",
              "  <tbody>\n",
              "    <tr>\n",
              "      <th>0</th>\n",
              "      <td>5.1</td>\n",
              "      <td>3.5</td>\n",
              "      <td>1.4</td>\n",
              "      <td>0.2</td>\n",
              "      <td>setosa</td>\n",
              "    </tr>\n",
              "    <tr>\n",
              "      <th>1</th>\n",
              "      <td>4.9</td>\n",
              "      <td>3.0</td>\n",
              "      <td>1.4</td>\n",
              "      <td>0.2</td>\n",
              "      <td>setosa</td>\n",
              "    </tr>\n",
              "    <tr>\n",
              "      <th>2</th>\n",
              "      <td>4.7</td>\n",
              "      <td>3.2</td>\n",
              "      <td>1.3</td>\n",
              "      <td>0.2</td>\n",
              "      <td>setosa</td>\n",
              "    </tr>\n",
              "    <tr>\n",
              "      <th>3</th>\n",
              "      <td>4.6</td>\n",
              "      <td>3.1</td>\n",
              "      <td>1.5</td>\n",
              "      <td>0.2</td>\n",
              "      <td>setosa</td>\n",
              "    </tr>\n",
              "    <tr>\n",
              "      <th>4</th>\n",
              "      <td>5.0</td>\n",
              "      <td>3.6</td>\n",
              "      <td>1.4</td>\n",
              "      <td>0.2</td>\n",
              "      <td>setosa</td>\n",
              "    </tr>\n",
              "  </tbody>\n",
              "</table>\n",
              "</div>"
            ],
            "text/plain": [
              "   sepal length (cm)  sepal width (cm)  ...  petal width (cm)  species\n",
              "0                5.1               3.5  ...               0.2   setosa\n",
              "1                4.9               3.0  ...               0.2   setosa\n",
              "2                4.7               3.2  ...               0.2   setosa\n",
              "3                4.6               3.1  ...               0.2   setosa\n",
              "4                5.0               3.6  ...               0.2   setosa\n",
              "\n",
              "[5 rows x 5 columns]"
            ]
          },
          "metadata": {
            "tags": []
          },
          "execution_count": 9
        }
      ]
    },
    {
      "cell_type": "code",
      "metadata": {
        "id": "uRfEO82qt7xH",
        "colab_type": "code",
        "colab": {}
      },
      "source": [
        "df['species']=pd.Categorical.from_codes(iris.target, iris.target_names)"
      ],
      "execution_count": 8,
      "outputs": []
    },
    {
      "cell_type": "code",
      "metadata": {
        "id": "TYdFpjbouPsf",
        "colab_type": "code",
        "colab": {}
      },
      "source": [
        "trainRandom = np.random.rand(len(df))<0.8"
      ],
      "execution_count": 12,
      "outputs": []
    },
    {
      "cell_type": "markdown",
      "metadata": {
        "id": "lV7-IlzwvX5n",
        "colab_type": "text"
      },
      "source": [
        "Para obtener el 80% de train"
      ]
    },
    {
      "cell_type": "code",
      "metadata": {
        "id": "lcSChmijvH7S",
        "colab_type": "code",
        "colab": {}
      },
      "source": [
        "train=df[trainRandom]"
      ],
      "execution_count": 13,
      "outputs": []
    },
    {
      "cell_type": "markdown",
      "metadata": {
        "id": "4y0rlgC1vVYn",
        "colab_type": "text"
      },
      "source": [
        "Para obtener el 20% de Test"
      ]
    },
    {
      "cell_type": "code",
      "metadata": {
        "id": "mtY-9SkyvOen",
        "colab_type": "code",
        "colab": {}
      },
      "source": [
        "test=df[~trainRandom]"
      ],
      "execution_count": 14,
      "outputs": []
    },
    {
      "cell_type": "code",
      "metadata": {
        "id": "AL_b60k3vcwO",
        "colab_type": "code",
        "colab": {
          "base_uri": "https://localhost:8080/",
          "height": 34
        },
        "outputId": "fb322720-98c4-481d-ed48-ee83dd6779fd"
      },
      "source": [
        "print('Numero obs en el set de entrenamiento =',len(train))"
      ],
      "execution_count": 15,
      "outputs": [
        {
          "output_type": "stream",
          "text": [
            "Numero obs en el set de entrenamiento = 123\n"
          ],
          "name": "stdout"
        }
      ]
    },
    {
      "cell_type": "code",
      "metadata": {
        "id": "ek_XDWPUvi4v",
        "colab_type": "code",
        "colab": {
          "base_uri": "https://localhost:8080/",
          "height": 34
        },
        "outputId": "a91a811f-f4ca-44f4-ec6c-bb05cfb98f2c"
      },
      "source": [
        "print('Numero obs en el set de entrenamiento =',len(test))"
      ],
      "execution_count": 16,
      "outputs": [
        {
          "output_type": "stream",
          "text": [
            "Numero obs en el set de entrenamiento = 27\n"
          ],
          "name": "stdout"
        }
      ]
    },
    {
      "cell_type": "code",
      "metadata": {
        "id": "neWSbOZMw-jX",
        "colab_type": "code",
        "colab": {}
      },
      "source": [
        "features=df.columns[:4]"
      ],
      "execution_count": 19,
      "outputs": []
    },
    {
      "cell_type": "code",
      "metadata": {
        "id": "7YlLCMFFxCLp",
        "colab_type": "code",
        "colab": {
          "base_uri": "https://localhost:8080/",
          "height": 67
        },
        "outputId": "1df79f4d-3424-4778-bc90-eb4eb194073c"
      },
      "source": [
        "features"
      ],
      "execution_count": 20,
      "outputs": [
        {
          "output_type": "execute_result",
          "data": {
            "text/plain": [
              "Index(['sepal length (cm)', 'sepal width (cm)', 'petal length (cm)',\n",
              "       'petal width (cm)'],\n",
              "      dtype='object')"
            ]
          },
          "metadata": {
            "tags": []
          },
          "execution_count": 20
        }
      ]
    },
    {
      "cell_type": "code",
      "metadata": {
        "id": "owzeDic_xR63",
        "colab_type": "code",
        "colab": {
          "base_uri": "https://localhost:8080/",
          "height": 235
        },
        "outputId": "dd73666c-e548-4e16-8ed8-4c8236ffd6d9"
      },
      "source": [
        "df.species"
      ],
      "execution_count": 21,
      "outputs": [
        {
          "output_type": "execute_result",
          "data": {
            "text/plain": [
              "0         setosa\n",
              "1         setosa\n",
              "2         setosa\n",
              "3         setosa\n",
              "4         setosa\n",
              "         ...    \n",
              "145    virginica\n",
              "146    virginica\n",
              "147    virginica\n",
              "148    virginica\n",
              "149    virginica\n",
              "Name: species, Length: 150, dtype: category\n",
              "Categories (3, object): [setosa, versicolor, virginica]"
            ]
          },
          "metadata": {
            "tags": []
          },
          "execution_count": 21
        }
      ]
    },
    {
      "cell_type": "code",
      "metadata": {
        "id": "C0XADc3-xVzn",
        "colab_type": "code",
        "colab": {
          "base_uri": "https://localhost:8080/",
          "height": 118
        },
        "outputId": "ee4d31ec-91eb-4799-8683-ab0fc2eb9926"
      },
      "source": [
        "y=pd.factorize(train['species'])[0]\n",
        "y"
      ],
      "execution_count": 22,
      "outputs": [
        {
          "output_type": "execute_result",
          "data": {
            "text/plain": [
              "array([0, 0, 0, 0, 0, 0, 0, 0, 0, 0, 0, 0, 0, 0, 0, 0, 0, 0, 0, 0, 0, 0,\n",
              "       0, 0, 0, 0, 0, 0, 0, 0, 0, 0, 0, 0, 0, 0, 0, 0, 0, 0, 0, 0, 1, 1,\n",
              "       1, 1, 1, 1, 1, 1, 1, 1, 1, 1, 1, 1, 1, 1, 1, 1, 1, 1, 1, 1, 1, 1,\n",
              "       1, 1, 1, 1, 1, 1, 1, 1, 1, 1, 1, 1, 1, 1, 1, 1, 1, 1, 1, 2, 2, 2,\n",
              "       2, 2, 2, 2, 2, 2, 2, 2, 2, 2, 2, 2, 2, 2, 2, 2, 2, 2, 2, 2, 2, 2,\n",
              "       2, 2, 2, 2, 2, 2, 2, 2, 2, 2, 2, 2, 2])"
            ]
          },
          "metadata": {
            "tags": []
          },
          "execution_count": 22
        }
      ]
    },
    {
      "cell_type": "code",
      "metadata": {
        "id": "W7oeHIeExmhH",
        "colab_type": "code",
        "colab": {}
      },
      "source": [
        "clf=RandomForestClassifier(n_jobs=2, random_state=0)"
      ],
      "execution_count": 23,
      "outputs": []
    },
    {
      "cell_type": "markdown",
      "metadata": {
        "id": "RJd-GSpqyOn4",
        "colab_type": "text"
      },
      "source": [
        "En la siguiente linea entrenamos el modelo"
      ]
    },
    {
      "cell_type": "code",
      "metadata": {
        "id": "WUomrmaxxsj_",
        "colab_type": "code",
        "colab": {
          "base_uri": "https://localhost:8080/",
          "height": 151
        },
        "outputId": "c0f0a5c8-8da1-4e37-f088-92077eda01ee"
      },
      "source": [
        "clf.fit(train[features], y)"
      ],
      "execution_count": 25,
      "outputs": [
        {
          "output_type": "execute_result",
          "data": {
            "text/plain": [
              "RandomForestClassifier(bootstrap=True, ccp_alpha=0.0, class_weight=None,\n",
              "                       criterion='gini', max_depth=None, max_features='auto',\n",
              "                       max_leaf_nodes=None, max_samples=None,\n",
              "                       min_impurity_decrease=0.0, min_impurity_split=None,\n",
              "                       min_samples_leaf=1, min_samples_split=2,\n",
              "                       min_weight_fraction_leaf=0.0, n_estimators=100, n_jobs=2,\n",
              "                       oob_score=False, random_state=0, verbose=0,\n",
              "                       warm_start=False)"
            ]
          },
          "metadata": {
            "tags": []
          },
          "execution_count": 25
        }
      ]
    },
    {
      "cell_type": "code",
      "metadata": {
        "id": "fCuWum_pyRUv",
        "colab_type": "code",
        "colab": {
          "base_uri": "https://localhost:8080/",
          "height": 50
        },
        "outputId": "c1c0bb8d-c4a0-4ed5-aaea-764957125fa7"
      },
      "source": [
        "clf.predict(test[features])"
      ],
      "execution_count": 26,
      "outputs": [
        {
          "output_type": "execute_result",
          "data": {
            "text/plain": [
              "array([0, 0, 0, 0, 0, 0, 0, 0, 1, 1, 1, 2, 2, 1, 1, 2, 2, 2, 2, 2, 2, 2,\n",
              "       2, 2, 2, 2, 2])"
            ]
          },
          "metadata": {
            "tags": []
          },
          "execution_count": 26
        }
      ]
    },
    {
      "cell_type": "code",
      "metadata": {
        "id": "ivInOkkIyaYH",
        "colab_type": "code",
        "colab": {}
      },
      "source": [
        "preds = iris.target_names[clf.predict(test[features])]"
      ],
      "execution_count": 27,
      "outputs": []
    },
    {
      "cell_type": "code",
      "metadata": {
        "id": "6IZp_wmgykVv",
        "colab_type": "code",
        "colab": {
          "base_uri": "https://localhost:8080/",
          "height": 118
        },
        "outputId": "b4b2e31a-bc33-4e7f-9d3e-7433436bd7cd"
      },
      "source": [
        "preds"
      ],
      "execution_count": 28,
      "outputs": [
        {
          "output_type": "execute_result",
          "data": {
            "text/plain": [
              "array(['setosa', 'setosa', 'setosa', 'setosa', 'setosa', 'setosa',\n",
              "       'setosa', 'setosa', 'versicolor', 'versicolor', 'versicolor',\n",
              "       'virginica', 'virginica', 'versicolor', 'versicolor', 'virginica',\n",
              "       'virginica', 'virginica', 'virginica', 'virginica', 'virginica',\n",
              "       'virginica', 'virginica', 'virginica', 'virginica', 'virginica',\n",
              "       'virginica'], dtype='<U10')"
            ]
          },
          "metadata": {
            "tags": []
          },
          "execution_count": 28
        }
      ]
    },
    {
      "cell_type": "code",
      "metadata": {
        "id": "6Pfzyxx_ypno",
        "colab_type": "code",
        "colab": {
          "base_uri": "https://localhost:8080/",
          "height": 134
        },
        "outputId": "2b84ca81-0eba-48d2-d1f0-10bc9c4cea4a"
      },
      "source": [
        "test['species'].head()"
      ],
      "execution_count": 31,
      "outputs": [
        {
          "output_type": "execute_result",
          "data": {
            "text/plain": [
              "7     setosa\n",
              "8     setosa\n",
              "13    setosa\n",
              "17    setosa\n",
              "19    setosa\n",
              "Name: species, dtype: category\n",
              "Categories (3, object): [setosa, versicolor, virginica]"
            ]
          },
          "metadata": {
            "tags": []
          },
          "execution_count": 31
        }
      ]
    },
    {
      "cell_type": "code",
      "metadata": {
        "id": "mCZ1KnsrzVLI",
        "colab_type": "code",
        "colab": {
          "base_uri": "https://localhost:8080/",
          "height": 166
        },
        "outputId": "0a1ffb1b-f1d9-40e1-e382-2537af4d09e4"
      },
      "source": [
        "pd.crosstab(test['species'],preds,rownames=['Actual Species'], colnames=['Predicted Species'])"
      ],
      "execution_count": 33,
      "outputs": [
        {
          "output_type": "execute_result",
          "data": {
            "text/html": [
              "<div>\n",
              "<style scoped>\n",
              "    .dataframe tbody tr th:only-of-type {\n",
              "        vertical-align: middle;\n",
              "    }\n",
              "\n",
              "    .dataframe tbody tr th {\n",
              "        vertical-align: top;\n",
              "    }\n",
              "\n",
              "    .dataframe thead th {\n",
              "        text-align: right;\n",
              "    }\n",
              "</style>\n",
              "<table border=\"1\" class=\"dataframe\">\n",
              "  <thead>\n",
              "    <tr style=\"text-align: right;\">\n",
              "      <th>Predicted Species</th>\n",
              "      <th>setosa</th>\n",
              "      <th>versicolor</th>\n",
              "      <th>virginica</th>\n",
              "    </tr>\n",
              "    <tr>\n",
              "      <th>Actual Species</th>\n",
              "      <th></th>\n",
              "      <th></th>\n",
              "      <th></th>\n",
              "    </tr>\n",
              "  </thead>\n",
              "  <tbody>\n",
              "    <tr>\n",
              "      <th>setosa</th>\n",
              "      <td>8</td>\n",
              "      <td>0</td>\n",
              "      <td>0</td>\n",
              "    </tr>\n",
              "    <tr>\n",
              "      <th>versicolor</th>\n",
              "      <td>0</td>\n",
              "      <td>5</td>\n",
              "      <td>2</td>\n",
              "    </tr>\n",
              "    <tr>\n",
              "      <th>virginica</th>\n",
              "      <td>0</td>\n",
              "      <td>0</td>\n",
              "      <td>12</td>\n",
              "    </tr>\n",
              "  </tbody>\n",
              "</table>\n",
              "</div>"
            ],
            "text/plain": [
              "Predicted Species  setosa  versicolor  virginica\n",
              "Actual Species                                  \n",
              "setosa                  8           0          0\n",
              "versicolor              0           5          2\n",
              "virginica               0           0         12"
            ]
          },
          "metadata": {
            "tags": []
          },
          "execution_count": 33
        }
      ]
    },
    {
      "cell_type": "markdown",
      "metadata": {
        "id": "mJ7MVZgO0cRk",
        "colab_type": "text"
      },
      "source": [
        "Para ver cual es el feature que mas peso tiene en la prediccion"
      ]
    },
    {
      "cell_type": "code",
      "metadata": {
        "id": "enWyrK3b0Ran",
        "colab_type": "code",
        "colab": {
          "base_uri": "https://localhost:8080/",
          "height": 84
        },
        "outputId": "5fac82f4-9496-4e7d-f39e-6883eadeccb5"
      },
      "source": [
        "list(zip(train[features],clf.feature_importances_))"
      ],
      "execution_count": 34,
      "outputs": [
        {
          "output_type": "execute_result",
          "data": {
            "text/plain": [
              "[('sepal length (cm)', 0.0889479467793623),\n",
              " ('sepal width (cm)', 0.0234427551884027),\n",
              " ('petal length (cm)', 0.44105878808840404),\n",
              " ('petal width (cm)', 0.44655050994383105)]"
            ]
          },
          "metadata": {
            "tags": []
          },
          "execution_count": 34
        }
      ]
    }
  ]
}