{
  "nbformat": 4,
  "nbformat_minor": 0,
  "metadata": {
    "colab": {
      "name": "Clase 3.ipynb",
      "provenance": [],
      "authorship_tag": "ABX9TyMy+TKeDnN2ON9SInWyN5SC",
      "include_colab_link": true
    },
    "kernelspec": {
      "name": "python3",
      "display_name": "Python 3"
    }
  },
  "cells": [
    {
      "cell_type": "markdown",
      "metadata": {
        "id": "view-in-github",
        "colab_type": "text"
      },
      "source": [
        "<a href=\"https://colab.research.google.com/github/danvasem/pytorch-ex/blob/master/Clase_3.ipynb\" target=\"_parent\"><img src=\"https://colab.research.google.com/assets/colab-badge.svg\" alt=\"Open In Colab\"/></a>"
      ]
    },
    {
      "cell_type": "code",
      "metadata": {
        "id": "8AlLATqElmpQ",
        "colab_type": "code",
        "colab": {}
      },
      "source": [
        "import torch\n",
        "import numpy as np\n",
        "import torch.nn as nn\n",
        "import torch.optim as optim\n",
        "\n",
        "import matplotlib.pyplot as plt"
      ],
      "execution_count": 1,
      "outputs": []
    },
    {
      "cell_type": "markdown",
      "metadata": {
        "id": "rvmYc5ndl-be",
        "colab_type": "text"
      },
      "source": [
        "#Regresión Lineal"
      ]
    },
    {
      "cell_type": "code",
      "metadata": {
        "id": "eBM5LEanmAjt",
        "colab_type": "code",
        "colab": {
          "base_uri": "https://localhost:8080/",
          "height": 282
        },
        "outputId": "edd2388d-9996-483b-f033-40a303b0cc91"
      },
      "source": [
        "car_prices=[5,6,7,8,9,10]\n",
        "units_solds=[8.5,8,7.5,7,6.5,6]\n",
        "\n",
        "plt.scatter(car_prices, units_solds)"
      ],
      "execution_count": 2,
      "outputs": [
        {
          "output_type": "execute_result",
          "data": {
            "text/plain": [
              "<matplotlib.collections.PathCollection at 0x7fd345a18668>"
            ]
          },
          "metadata": {
            "tags": []
          },
          "execution_count": 2
        },
        {
          "output_type": "display_data",
          "data": {
            "image/png": "[encoded data removed]",
            "text/plain": [
              "<Figure size 432x288 with 1 Axes>"
            ]
          },
          "metadata": {
            "tags": [],
            "needs_background": "light"
          }
        }
      ]
    },
    {
      "cell_type": "code",
      "metadata": {
        "id": "45nLAoLGmT-h",
        "colab_type": "code",
        "colab": {
          "base_uri": "https://localhost:8080/",
          "height": 118
        },
        "outputId": "de84b9bb-bb7e-476d-82be-94857092c061"
      },
      "source": [
        "prices_array = np.array(car_prices).reshape(-1,1)\n",
        "units_array = np.array(units_solds).reshape(-1,1)\n",
        "prices_array"
      ],
      "execution_count": 4,
      "outputs": [
        {
          "output_type": "execute_result",
          "data": {
            "text/plain": [
              "array([[ 5],\n",
              "       [ 6],\n",
              "       [ 7],\n",
              "       [ 8],\n",
              "       [ 9],\n",
              "       [10]])"
            ]
          },
          "metadata": {
            "tags": []
          },
          "execution_count": 4
        }
      ]
    },
    {
      "cell_type": "code",
      "metadata": {
        "id": "9kUCp66Amb_g",
        "colab_type": "code",
        "colab": {
          "base_uri": "https://localhost:8080/",
          "height": 202
        },
        "outputId": "956ab996-292d-4eb0-a865-09665e1e0b2c"
      },
      "source": [
        "prices=torch.from_numpy(prices_array).float().requires_grad_(True)\n",
        "units=torch.from_numpy(units_array).float()\n",
        "prices,units\n"
      ],
      "execution_count": 5,
      "outputs": [
        {
          "output_type": "execute_result",
          "data": {
            "text/plain": [
              "(tensor([[ 5.],\n",
              "         [ 6.],\n",
              "         [ 7.],\n",
              "         [ 8.],\n",
              "         [ 9.],\n",
              "         [10.]], requires_grad=True), tensor([[8.5000],\n",
              "         [8.0000],\n",
              "         [7.5000],\n",
              "         [7.0000],\n",
              "         [6.5000],\n",
              "         [6.0000]]))"
            ]
          },
          "metadata": {
            "tags": []
          },
          "execution_count": 5
        }
      ]
    },
    {
      "cell_type": "code",
      "metadata": {
        "id": "sEE47toOnPIo",
        "colab_type": "code",
        "colab": {
          "base_uri": "https://localhost:8080/",
          "height": 298
        },
        "outputId": "97839b40-a9b4-4cbf-d08f-79f55dc9f6b2"
      },
      "source": [
        "model=nn.Linear(1,1)\n",
        "loss_function=nn.MSELoss()\n",
        "optimizer=optim.SGD(model.parameters(),lr=0.015)\n",
        "losses=[]\n",
        "iterations=2000\n",
        "for i in range(iterations):\n",
        "  pred=model(prices)\n",
        "  loss=loss_function(pred,units)\n",
        "  losses.append(loss.data)\n",
        "\n",
        "  optimizer.zero_grad()\n",
        "  loss.backward()\n",
        "  optimizer.step()\n",
        "\n",
        "print(float(loss))\n",
        "plt.plot(range(iterations),losses)"
      ],
      "execution_count": 33,
      "outputs": [
        {
          "output_type": "stream",
          "text": [
            "0.02003423124551773\n"
          ],
          "name": "stdout"
        },
        {
          "output_type": "execute_result",
          "data": {
            "text/plain": [
              "[<matplotlib.lines.Line2D at 0x7fd343a96358>]"
            ]
          },
          "metadata": {
            "tags": []
          },
          "execution_count": 33
        },
        {
          "output_type": "display_data",
          "data": {
            "image/png": "[encoded data removed]",
            "text/plain": [
              "<Figure size 432x288 with 1 Axes>"
            ]
          },
          "metadata": {
            "tags": [],
            "needs_background": "light"
          }
        }
      ]
    },
    {
      "cell_type": "code",
      "metadata": {
        "id": "e-d68G7loVjh",
        "colab_type": "code",
        "colab": {
          "base_uri": "https://localhost:8080/",
          "height": 34
        },
        "outputId": "689cc9f7-c841-421d-fb1f-350cfd46940f"
      },
      "source": [
        "x=torch.Tensor([[4.0]])\n",
        "p=model(x)\n",
        "p"
      ],
      "execution_count": 34,
      "outputs": [
        {
          "output_type": "execute_result",
          "data": {
            "text/plain": [
              "tensor([[8.6865]], grad_fn=<AddmmBackward>)"
            ]
          },
          "metadata": {
            "tags": []
          },
          "execution_count": 34
        }
      ]
    }
  ]
}